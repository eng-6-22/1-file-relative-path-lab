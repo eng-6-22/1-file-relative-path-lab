{
 "cells": [
  {
   "cell_type": "markdown",
   "id": "f9f9b0d1-7e11-4e58-b693-5a482bb21758",
   "metadata": {},
   "source": [
    "# Managing Files Lab"
   ]
  },
  {
   "cell_type": "markdown",
   "id": "55f04ec9-57c0-4a60-a336-82cb63082108",
   "metadata": {},
   "source": [
    "### Introduction"
   ]
  },
  {
   "cell_type": "markdown",
   "id": "224f6ad6-b196-447e-a6e1-d0622710b4e5",
   "metadata": {},
   "source": [
    "In this lesson, we'll practice loading in our data from different files."
   ]
  },
  {
   "cell_type": "markdown",
   "id": "8bd875fa-d9ae-4584-bfe8-4a78ecd84cee",
   "metadata": {},
   "source": [
    "### Running our scripts"
   ]
  },
  {
   "cell_type": "markdown",
   "id": "c6f92d29-4cfb-4f65-8b32-6c9ca3bd6b74",
   "metadata": {},
   "source": [
    "We can begin by running the code in each of the scripts."
   ]
  },
  {
   "cell_type": "markdown",
   "id": "34c1b892-4bb8-488c-90f4-e16adca11a70",
   "metadata": {},
   "source": [
    "Run the `index.py` file, the `test_index.py` and the `console.py` file such that each of them display the following in the console.\n",
    "\n",
    "> Get them to run without changing any of the code in the files.  To do so, you'll have to navigate into differen folders.\n",
    "\n",
    "If it works properly, we should see the following."
   ]
  },
  {
   "cell_type": "markdown",
   "id": "ca9cdec0-bb39-46f6-98bf-98584c1cb4e9",
   "metadata": {},
   "source": [
    "```python\n",
    "{'number': 1, 'year': 1967, 'album': \"Sgt. Pepper's Lonely Hearts Club Band\", 'artist': 'The Beatles', 'genre': 'Rock', 'subgenre': 'Rock & Roll, Psychedelic Rock'}\n",
    "```"
   ]
  },
  {
   "cell_type": "markdown",
   "id": "3485bc9d-7e59-4350-be61-18669865a6a0",
   "metadata": {},
   "source": [
    "Now generally, we prefer to structure our code so that we can run `python3` from the same directory each time.  In this case, we want to structure our code so that we can always run our code from inside the `codebase` directory."
   ]
  },
  {
   "cell_type": "markdown",
   "id": "07e9a2f5-db53-461d-845b-144b9bbc43b5",
   "metadata": {},
   "source": [
    "<img src=\"./codebase-dir.png\" width=\"70%\">"
   ]
  },
  {
   "cell_type": "markdown",
   "id": "9371bd4b-c84b-40e9-97b9-3ba21e4171db",
   "metadata": {},
   "source": [
    "So change the code so that the same dictionary still prints out, and we can run each of our files from the `codebase` directory."
   ]
  },
  {
   "cell_type": "markdown",
   "id": "bab7b6e5-9588-427f-807c-4bb3ac94ec7d",
   "metadata": {},
   "source": [
    "If it works, we should be able to run the following successfully:\n",
    "\n",
    "```bash\n",
    "python3 console.py\n",
    "\n",
    "python3 src/index.py\n",
    "\n",
    "python3 tests/test_index.py\n",
    "```"
   ]
  },
  {
   "cell_type": "markdown",
   "id": "fd6b326b-d86c-44d6-b648-c9b1367ddea9",
   "metadata": {},
   "source": [
    "<img src=\"./results.png\" width=\"100%\">"
   ]
  },
  {
   "cell_type": "markdown",
   "id": "2c4aaaaf",
   "metadata": {},
   "source": [
    "### Bonus with pytest\n",
    "\n",
    "Pytest is a software that allows us to run various tests.  And notice that we can also run the `pytest` command from the codebase folder.\n",
    "\n",
    "<img src=\"./pytest-success.png\" width=\"100%\">\n",
    "\n",
    "However, if we run this command from the `tests` folder, we get an error.\n",
    "\n",
    "<img src=\"./pytest-fail.png\" width=\"100%\">\n",
    "\n",
    "This failure for the same reason as before.  We are running pytest from the tests folder.  And from inside that folder, there is no relative path to `./data/data.csv`.  So we need to run `pytest` from the codebase folder where that is the relative path to that file.\n"
   ]
  },
  {
   "cell_type": "markdown",
   "id": "70673a76-9c97-4831-a1ad-be47e0e98d65",
   "metadata": {},
   "source": [
    "### Final thoughts"
   ]
  },
  {
   "cell_type": "markdown",
   "id": "69a1a579-072e-40e9-a581-6aa7221c7cd9",
   "metadata": {},
   "source": [
    "We should aim to structure our codebase so that we are always running our code from the same project directory.  This means that our relative paths should be relative from that same project folder. \n",
    "\n",
    "This is what we ended up with.  In each file, we are now properly specifying the path to our data relative to the `codebase` directory."
   ]
  }
 ],
 "metadata": {
  "kernelspec": {
   "display_name": "Python 3.9.10 64-bit",
   "language": "python",
   "name": "python3"
  },
  "language_info": {
   "codemirror_mode": {
    "name": "ipython",
    "version": 3
   },
   "file_extension": ".py",
   "mimetype": "text/x-python",
   "name": "python",
   "nbconvert_exporter": "python",
   "pygments_lexer": "ipython3",
   "version": "3.9.10"
  },
  "vscode": {
   "interpreter": {
    "hash": "aee8b7b246df8f9039afb4144a1f6fd8d2ca17a180786b69acc140d282b71a49"
   }
  }
 },
 "nbformat": 4,
 "nbformat_minor": 5
}
